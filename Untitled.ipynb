{
 "cells": [
  {
   "cell_type": "code",
   "execution_count": 3,
   "id": "49245a02",
   "metadata": {},
   "outputs": [
    {
     "data": {
      "text/plain": [
       "'\\nfor pos,data in enumerate(df[\\'date\\']):\\n    df.loc[pos,[\\'dayofweek\\']] = calendar.day_name[datetime.datetime.strptime(data, \"%d/%m/%y\").weekday()]\\n\\n\\n\\nfor pos,data in enumerate(df[\\'subject\\']):\\n    for c in data:\\n        df.loc[pos,[\\'memes\\']] = np.where(ord(c) < 128,0,1)\\n    df.loc[pos, [\\'youtube_share\\']] = np.where(\\'youtube\\' in data, 1, 0)\\n    df.loc[pos, [\\'file_attachment\\']] = np.where(\\'attached)\\' in data, 1, 0)\\n\\ndf1 = df[df[\\'name\\']!=\\'\\']\\ndf1.name.unique()\\n\\n\\nprint(df1[\\'dayofweek\\'].value_counts())\\n#plt.xticks(rotation=\\'vertical\\')\\n#plt.show()\\n\\n#print(df1[\\'name\\'].unique())\\nprint(df1[\\'name\\'].value_counts())\\n'"
      ]
     },
     "execution_count": 3,
     "metadata": {},
     "output_type": "execute_result"
    }
   ],
   "source": [
    "## reading the data from whatsapp report\n",
    "import pandas as pd\n",
    "import numpy as np\n",
    "import regex as re\n",
    "import datetime\n",
    "import calendar\n",
    "import matplotlib.pyplot as plt\n",
    "\n",
    "\n",
    "\n",
    "date =[]\n",
    "time =[]\n",
    "name=[]\n",
    "subject = []\n",
    "\n",
    "\n",
    "with open(\"WhatsApp Chat with Former 7 shuttlers.txt\", encoding=\"utf-8\") as fp:\n",
    "    while True:\n",
    "        line = fp.readline()\n",
    "        if line == '\\n':\n",
    "            break\n",
    "        data = line\n",
    "        pattern = \"(\\d{2}\\D\\d{2}\\D\\d{4})\"\n",
    "        temp = re.findall(pattern, data)\n",
    "        if (len(temp) != 0):\n",
    "            date.append(\"\".join(temp))\n",
    "\n",
    "            pattern = \"(\\d{2}:\\d{2})\"\n",
    "            time.append(\"\".join(re.findall(pattern, data)))\n",
    "\n",
    "            pattern = \".*- (.*): \"\n",
    "            name.append(\"\".join(re.findall(pattern, data)))\n",
    "\n",
    "            pattern = \": (.*)\"\n",
    "            subject.append(\"\".join(re.findall(pattern, data)))\n",
    "        else:\n",
    "            subject[-1] = subject[-1]+\"\".join(line)\n",
    "\n",
    "\n",
    "\n",
    "\n",
    "df = pd.DataFrame(list(zip(date,time,name,subject)),columns=['date','time','name','subject'] )\n",
    "df.to_csv(\"output.csv\")\n",
    "\n",
    "'''\n",
    "for pos,data in enumerate(df['date']):\n",
    "    df.loc[pos,['dayofweek']] = calendar.day_name[datetime.datetime.strptime(data, \"%d/%m/%y\").weekday()]\n",
    "\n",
    "\n",
    "\n",
    "for pos,data in enumerate(df['subject']):\n",
    "    for c in data:\n",
    "        df.loc[pos,['memes']] = np.where(ord(c) < 128,0,1)\n",
    "    df.loc[pos, ['youtube_share']] = np.where('youtube' in data, 1, 0)\n",
    "    df.loc[pos, ['file_attachment']] = np.where('attached)' in data, 1, 0)\n",
    "\n",
    "df1 = df[df['name']!='']\n",
    "df1.name.unique()\n",
    "\n",
    "\n",
    "print(df1['dayofweek'].value_counts())\n",
    "#plt.xticks(rotation='vertical')\n",
    "#plt.show()\n",
    "\n",
    "#print(df1['name'].unique())\n",
    "print(df1['name'].value_counts())\n",
    "'''\n",
    "\n",
    "\n",
    "\n"
   ]
  },
  {
   "cell_type": "code",
   "execution_count": 59,
   "id": "bb19b53d",
   "metadata": {},
   "outputs": [
    {
     "data": {
      "text/html": [
       "<div>\n",
       "<style scoped>\n",
       "    .dataframe tbody tr th:only-of-type {\n",
       "        vertical-align: middle;\n",
       "    }\n",
       "\n",
       "    .dataframe tbody tr th {\n",
       "        vertical-align: top;\n",
       "    }\n",
       "\n",
       "    .dataframe thead th {\n",
       "        text-align: right;\n",
       "    }\n",
       "</style>\n",
       "<table border=\"1\" class=\"dataframe\">\n",
       "  <thead>\n",
       "    <tr style=\"text-align: right;\">\n",
       "      <th>memes</th>\n",
       "      <th>0.0</th>\n",
       "      <th>1.0</th>\n",
       "    </tr>\n",
       "    <tr>\n",
       "      <th>name</th>\n",
       "      <th></th>\n",
       "      <th></th>\n",
       "    </tr>\n",
       "  </thead>\n",
       "  <tbody>\n",
       "    <tr>\n",
       "      <th>Madan Madas</th>\n",
       "      <td>71</td>\n",
       "      <td>18</td>\n",
       "    </tr>\n",
       "    <tr>\n",
       "      <th>Pac Logu</th>\n",
       "      <td>10</td>\n",
       "      <td>10</td>\n",
       "    </tr>\n",
       "    <tr>\n",
       "      <th>Pac madasamy</th>\n",
       "      <td>55</td>\n",
       "      <td>25</td>\n",
       "    </tr>\n",
       "    <tr>\n",
       "      <th>Pac soundar</th>\n",
       "      <td>11</td>\n",
       "      <td>2</td>\n",
       "    </tr>\n",
       "    <tr>\n",
       "      <th>Pradeep Shuttle</th>\n",
       "      <td>9</td>\n",
       "      <td>2</td>\n",
       "    </tr>\n",
       "    <tr>\n",
       "      <th>Shuttle Aravind</th>\n",
       "      <td>198</td>\n",
       "      <td>10</td>\n",
       "    </tr>\n",
       "    <tr>\n",
       "      <th>Shuttle Thiru New</th>\n",
       "      <td>50</td>\n",
       "      <td>2</td>\n",
       "    </tr>\n",
       "    <tr>\n",
       "      <th>Vinayak</th>\n",
       "      <td>124</td>\n",
       "      <td>41</td>\n",
       "    </tr>\n",
       "  </tbody>\n",
       "</table>\n",
       "</div>"
      ],
      "text/plain": [
       "memes              0.0  1.0\n",
       "name                       \n",
       "Madan Madas         71   18\n",
       "Pac Logu            10   10\n",
       "Pac madasamy        55   25\n",
       "Pac soundar         11    2\n",
       "Pradeep Shuttle      9    2\n",
       "Shuttle Aravind    198   10\n",
       "Shuttle Thiru New   50    2\n",
       "Vinayak            124   41"
      ]
     },
     "execution_count": 59,
     "metadata": {},
     "output_type": "execute_result"
    }
   ],
   "source": [
    "pd.crosstab(df1.name, df1.memes)"
   ]
  },
  {
   "cell_type": "code",
   "execution_count": null,
   "id": "998d8c11",
   "metadata": {},
   "outputs": [],
   "source": []
  },
  {
   "cell_type": "code",
   "execution_count": null,
   "id": "3cac50bf",
   "metadata": {},
   "outputs": [],
   "source": []
  },
  {
   "cell_type": "code",
   "execution_count": 64,
   "id": "863a730f",
   "metadata": {},
   "outputs": [
    {
     "data": {
      "text/html": [
       "<div>\n",
       "<style scoped>\n",
       "    .dataframe tbody tr th:only-of-type {\n",
       "        vertical-align: middle;\n",
       "    }\n",
       "\n",
       "    .dataframe tbody tr th {\n",
       "        vertical-align: top;\n",
       "    }\n",
       "\n",
       "    .dataframe thead th {\n",
       "        text-align: right;\n",
       "    }\n",
       "</style>\n",
       "<table border=\"1\" class=\"dataframe\">\n",
       "  <thead>\n",
       "    <tr style=\"text-align: right;\">\n",
       "      <th>file_attachment</th>\n",
       "      <th>0.0</th>\n",
       "      <th>1.0</th>\n",
       "    </tr>\n",
       "    <tr>\n",
       "      <th>name</th>\n",
       "      <th></th>\n",
       "      <th></th>\n",
       "    </tr>\n",
       "  </thead>\n",
       "  <tbody>\n",
       "    <tr>\n",
       "      <th>Madan Madas</th>\n",
       "      <td>77</td>\n",
       "      <td>12</td>\n",
       "    </tr>\n",
       "    <tr>\n",
       "      <th>Pac Logu</th>\n",
       "      <td>20</td>\n",
       "      <td>0</td>\n",
       "    </tr>\n",
       "    <tr>\n",
       "      <th>Pac madasamy</th>\n",
       "      <td>67</td>\n",
       "      <td>13</td>\n",
       "    </tr>\n",
       "    <tr>\n",
       "      <th>Pac soundar</th>\n",
       "      <td>13</td>\n",
       "      <td>0</td>\n",
       "    </tr>\n",
       "    <tr>\n",
       "      <th>Pradeep Shuttle</th>\n",
       "      <td>9</td>\n",
       "      <td>2</td>\n",
       "    </tr>\n",
       "    <tr>\n",
       "      <th>Shuttle Aravind</th>\n",
       "      <td>140</td>\n",
       "      <td>68</td>\n",
       "    </tr>\n",
       "    <tr>\n",
       "      <th>Shuttle Thiru New</th>\n",
       "      <td>42</td>\n",
       "      <td>10</td>\n",
       "    </tr>\n",
       "    <tr>\n",
       "      <th>Vinayak</th>\n",
       "      <td>159</td>\n",
       "      <td>6</td>\n",
       "    </tr>\n",
       "  </tbody>\n",
       "</table>\n",
       "</div>"
      ],
      "text/plain": [
       "file_attachment    0.0  1.0\n",
       "name                       \n",
       "Madan Madas         77   12\n",
       "Pac Logu            20    0\n",
       "Pac madasamy        67   13\n",
       "Pac soundar         13    0\n",
       "Pradeep Shuttle      9    2\n",
       "Shuttle Aravind    140   68\n",
       "Shuttle Thiru New   42   10\n",
       "Vinayak            159    6"
      ]
     },
     "execution_count": 64,
     "metadata": {},
     "output_type": "execute_result"
    }
   ],
   "source": [
    "pd.crosstab(df1.name, df1.file_attachment)"
   ]
  },
  {
   "cell_type": "code",
   "execution_count": null,
   "id": "fc533d03",
   "metadata": {},
   "outputs": [],
   "source": []
  },
  {
   "cell_type": "code",
   "execution_count": 65,
   "id": "c24333b1",
   "metadata": {},
   "outputs": [
    {
     "data": {
      "text/plain": [
       "<AxesSubplot:xlabel='name'>"
      ]
     },
     "execution_count": 65,
     "metadata": {},
     "output_type": "execute_result"
    },
    {
     "data": {
      "image/png": "[encoded data removed]",
      "text/plain": [
       "<Figure size 432x288 with 1 Axes>"
      ]
     },
     "metadata": {
      "needs_background": "light"
     },
     "output_type": "display_data"
    }
   ],
   "source": [
    "crosstb = pd.crosstab(df1.name, df1.file_attachment)\n",
    "crosstb.plot.bar()\n"
   ]
  },
  {
   "cell_type": "code",
   "execution_count": 66,
   "id": "0015067b",
   "metadata": {},
   "outputs": [
    {
     "data": {
      "text/plain": [
       "<AxesSubplot:xlabel='name'>"
      ]
     },
     "execution_count": 66,
     "metadata": {},
     "output_type": "execute_result"
    },
    {
     "data": {
      "image/png": "[encoded data removed]",
      "text/plain": [
       "<Figure size 432x288 with 1 Axes>"
      ]
     },
     "metadata": {
      "needs_background": "light"
     },
     "output_type": "display_data"
    }
   ],
   "source": [
    "crosstb = pd.crosstab(df1.name, df1.memes)\n",
    "crosstb.plot.bar()"
   ]
  },
  {
   "cell_type": "code",
   "execution_count": 67,
   "id": "3e1353f7",
   "metadata": {},
   "outputs": [
    {
     "data": {
      "text/plain": [
       "<AxesSubplot:xlabel='name'>"
      ]
     },
     "execution_count": 67,
     "metadata": {},
     "output_type": "execute_result"
    },
    {
     "data": {
      "image/png": "[encoded data removed]",
      "text/plain": [
       "<Figure size 432x288 with 1 Axes>"
      ]
     },
     "metadata": {
      "needs_background": "light"
     },
     "output_type": "display_data"
    }
   ],
   "source": [
    "crosstb = pd.crosstab(df1.name, df1.youtube_share)\n",
    "crosstb.plot.bar()"
   ]
  },
  {
   "cell_type": "code",
   "execution_count": null,
   "id": "b7123ea1",
   "metadata": {},
   "outputs": [],
   "source": []
  }
 ],
 "metadata": {
  "kernelspec": {
   "display_name": "Python 3 (ipykernel)",
   "language": "python",
   "name": "python3"
  },
  "language_info": {
   "codemirror_mode": {
    "name": "ipython",
    "version": 3
   },
   "file_extension": ".py",
   "mimetype": "text/x-python",
   "name": "python",
   "nbconvert_exporter": "python",
   "pygments_lexer": "ipython3",
   "version": "3.9.12"
  }
 },
 "nbformat": 4,
 "nbformat_minor": 5
}
