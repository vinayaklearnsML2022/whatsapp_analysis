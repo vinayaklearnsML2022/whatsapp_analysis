{
 "cells": [
  {
   "cell_type": "code",
   "execution_count": 301,
   "id": "2167effe",
   "metadata": {},
   "outputs": [
    {
     "name": "stdout",
     "output_type": "stream",
     "text": [
      "EOF\n"
     ]
    }
   ],
   "source": [
    "## reading the data from whatsapp report\n",
    "import pandas as pd\n",
    "import numpy as np\n",
    "import regex as re\n",
    "import datetime\n",
    "import calendar\n",
    "import matplotlib.pyplot as plt\n",
    "\n",
    "\n",
    "\n",
    "date =[]\n",
    "time =[]\n",
    "name=[]\n",
    "subject = []\n",
    "\n",
    "\n",
    "with open(\"WhatsApp Chat with Former 7 shuttlers.txt\", encoding=\"utf-8\") as fp:\n",
    "    while True:\n",
    "        line = fp.readline()\n",
    "        \n",
    "        if not line:\n",
    "            print('EOF')\n",
    "            break\n",
    "        data = line\n",
    "        pattern = \"(\\d{2}/\\d{2}/\\d{4})\"\n",
    "        temp = re.findall(pattern, data)\n",
    "        if len(temp)!=0 :\n",
    "            date.append(\"\".join(temp))\n",
    "\n",
    "            pattern = \"(\\d{2}:\\d{2})\"\n",
    "            time.append(\"\".join(re.findall(pattern, data)))\n",
    "            \n",
    "            pattern = \".*- (\\.*\\s*.*): \"\n",
    "            name.append(\"\".join(re.findall(pattern, data)))\n",
    "\n",
    "            pattern = \": (.*)\"\n",
    "            subject.append(\"\".join(re.findall(pattern, data)))\n",
    "\n",
    "        \n",
    "        else:\n",
    "            subject[-1] = subject[-1]+\"\".join(data)\n",
    "\n",
    "        \n",
    "\n",
    "\n",
    "df = pd.DataFrame(list(zip(date,time,name,subject)),columns=['date','time','name','subject'] )\n",
    "\n",
    "df.to_csv(\"output.csv\")\n",
    "\n",
    "\n",
    "for pos,data in enumerate(df['date']):\n",
    "    df.loc[pos,['dayofweek']] = calendar.day_name[datetime.datetime.strptime(data, \"%d/%m/%Y\").weekday()]\n",
    "\n",
    "\n",
    "for pos,data in enumerate(df['subject']):\n",
    "    for c in data:\n",
    "        df.loc[pos,['memes']] = np.where(ord(c) < 128,0,1)\n",
    "    df.loc[pos, ['youtube_share']] = np.where('youtube' in data, 1, 0)\n",
    "    df.loc[pos, ['contact_file_attachment']] = np.where('attached)' in data, 1, 0)\n",
    "    df.loc[pos, ['images']] = np.where('Media omitted' in data, 1, 0)\n",
    "   \n",
    "    \n",
    "\n",
    "\n",
    "df1 = df[df['name']!='']\n",
    "\n",
    "\n",
    "\n",
    "\n",
    "\n",
    "\n",
    "\n"
   ]
  },
  {
   "cell_type": "code",
   "execution_count": 302,
   "id": "a24cee65",
   "metadata": {},
   "outputs": [
    {
     "name": "stdout",
     "output_type": "stream",
     "text": [
      "Index(['Saturday', 'Friday', 'Sunday', 'Thursday', 'Wednesday', 'Monday',\n",
      "       'Tuesday'],\n",
      "      dtype='object')\n",
      "[2446 2099 1822  617  476  375  245]\n"
     ]
    },
    {
     "data": {
      "image/png": "[encoded data removed]",
      "text/plain": [
       "<Figure size 432x288 with 1 Axes>"
      ]
     },
     "metadata": {
      "needs_background": "light"
     },
     "output_type": "display_data"
    }
   ],
   "source": [
    "\n",
    "print(df1['dayofweek'].value_counts().keys())\n",
    "print(df1['dayofweek'].value_counts().values)\n",
    "plt.bar(df1['dayofweek'].value_counts().keys(),df1['dayofweek'].value_counts().values)\n",
    "plt.xticks(rotation='vertical')\n",
    "plt.xlabel(\"Days of week including weekends\")\n",
    "plt.ylabel(\"No of Messages\")\n",
    "plt.title(\" No of Messages sent on each day\")\n",
    "plt.show()\n"
   ]
  },
  {
   "cell_type": "code",
   "execution_count": 303,
   "id": "ed7357a3",
   "metadata": {},
   "outputs": [
    {
     "name": "stdout",
     "output_type": "stream",
     "text": [
      "['Vinayak SIR: Madas', 'Mariakka: Venue ', 'Madhan🤡: There is no excuse to being late. Ever. Being late is telling the other person', 'Vinayak SIR: Madan', 'Mariakka: Team ', 'Shuttle Aravindh: Madas na ', 'Vinayak SIR: Madasamy', 'Vinayak SIR: Madas', 'Mariakka: Court booked ', 'Vinayak SIR: Thiru', 'Madhan🤡: Courtesy ', 'Shuttle Aravindh: Pudupetai dialogue']\n"
     ]
    }
   ],
   "source": [
    "df2 = df1.copy()\n",
    "\n",
    "post_array = []\n",
    "\n",
    "for pos,data in enumerate(df1['name']):\n",
    "    if \":\" in data:\n",
    "        post_array.append(data)\n",
    "        \n",
    "        \n",
    "        \n",
    "print(post_array)\n",
    "\n",
    "\n",
    "    "
   ]
  },
  {
   "cell_type": "code",
   "execution_count": 304,
   "id": "40ddb1cb",
   "metadata": {},
   "outputs": [],
   "source": [
    "for i in post_array:\n",
    "    df1 = df1[df1['name']!=i]"
   ]
  },
  {
   "cell_type": "code",
   "execution_count": 305,
   "id": "b1486b5f",
   "metadata": {},
   "outputs": [],
   "source": [
    "df3 = df1.copy()"
   ]
  },
  {
   "cell_type": "code",
   "execution_count": 306,
   "id": "93160478",
   "metadata": {
    "scrolled": true
   },
   "outputs": [
    {
     "name": "stdout",
     "output_type": "stream",
     "text": [
      "Shuttle Aravindh    2346\n",
      "Vinayak SIR         1849\n",
      "Mariakka            1310\n",
      "Madhan🤡              955\n",
      "Thiru Shuttle        787\n",
      "+91 98657 07874      332\n",
      "+91 96005 73784      203\n",
      "+91 99442 08636      181\n",
      "Marimut Pactron      105\n",
      "Name: name, dtype: int64\n"
     ]
    }
   ],
   "source": [
    "print(df3['name'].value_counts())"
   ]
  },
  {
   "cell_type": "code",
   "execution_count": 307,
   "id": "14886b1c",
   "metadata": {},
   "outputs": [
    {
     "name": "stdout",
     "output_type": "stream",
     "text": [
      "Index(['Shuttle Aravindh', 'Vinayak SIR', 'Mariakka', 'Madhan🤡',\n",
      "       'Thiru Shuttle', '+91 98657 07874', '+91 96005 73784',\n",
      "       '+91 99442 08636', 'Marimut Pactron'],\n",
      "      dtype='object')\n",
      "[2346 1849 1310  955  787  332  203  181  105]\n"
     ]
    },
    {
     "name": "stderr",
     "output_type": "stream",
     "text": [
      "C:\\Users\\Electrobot\\anaconda3\\lib\\site-packages\\IPython\\core\\pylabtools.py:151: UserWarning: Glyph 129313 (\\N{CLOWN FACE}) missing from current font.\n",
      "  fig.canvas.print_figure(bytes_io, **kw)\n"
     ]
    },
    {
     "data": {
      "image/png": "[encoded data removed]",
      "text/plain": [
       "<Figure size 432x288 with 1 Axes>"
      ]
     },
     "metadata": {
      "needs_background": "light"
     },
     "output_type": "display_data"
    }
   ],
   "source": [
    "print(df1['name'].value_counts().keys())\n",
    "print(df1['name'].value_counts().values)\n",
    "plt.bar(df1['name'].value_counts().keys(),df1['name'].value_counts().values)\n",
    "plt.xticks(rotation='vertical')\n",
    "plt.xlabel(\"Members\")\n",
    "plt.ylabel(\"No of Messages\")\n",
    "plt.title(\" No of Messages sent by members\")\n",
    "plt.show()\n"
   ]
  },
  {
   "cell_type": "code",
   "execution_count": 308,
   "id": "1a09c3c9",
   "metadata": {},
   "outputs": [
    {
     "data": {
      "text/html": [
       "<div>\n",
       "<style scoped>\n",
       "    .dataframe tbody tr th:only-of-type {\n",
       "        vertical-align: middle;\n",
       "    }\n",
       "\n",
       "    .dataframe tbody tr th {\n",
       "        vertical-align: top;\n",
       "    }\n",
       "\n",
       "    .dataframe thead th {\n",
       "        text-align: right;\n",
       "    }\n",
       "</style>\n",
       "<table border=\"1\" class=\"dataframe\">\n",
       "  <thead>\n",
       "    <tr style=\"text-align: right;\">\n",
       "      <th>images</th>\n",
       "      <th>0.0</th>\n",
       "      <th>1.0</th>\n",
       "    </tr>\n",
       "    <tr>\n",
       "      <th>name</th>\n",
       "      <th></th>\n",
       "      <th></th>\n",
       "    </tr>\n",
       "  </thead>\n",
       "  <tbody>\n",
       "    <tr>\n",
       "      <th>+91 96005 73784</th>\n",
       "      <td>184</td>\n",
       "      <td>19</td>\n",
       "    </tr>\n",
       "    <tr>\n",
       "      <th>+91 98657 07874</th>\n",
       "      <td>256</td>\n",
       "      <td>76</td>\n",
       "    </tr>\n",
       "    <tr>\n",
       "      <th>+91 99442 08636</th>\n",
       "      <td>168</td>\n",
       "      <td>13</td>\n",
       "    </tr>\n",
       "    <tr>\n",
       "      <th>Madhan🤡</th>\n",
       "      <td>877</td>\n",
       "      <td>78</td>\n",
       "    </tr>\n",
       "    <tr>\n",
       "      <th>Mariakka</th>\n",
       "      <td>1046</td>\n",
       "      <td>264</td>\n",
       "    </tr>\n",
       "    <tr>\n",
       "      <th>Marimut Pactron</th>\n",
       "      <td>102</td>\n",
       "      <td>3</td>\n",
       "    </tr>\n",
       "    <tr>\n",
       "      <th>Shuttle Aravindh</th>\n",
       "      <td>1712</td>\n",
       "      <td>634</td>\n",
       "    </tr>\n",
       "    <tr>\n",
       "      <th>Thiru Shuttle</th>\n",
       "      <td>618</td>\n",
       "      <td>169</td>\n",
       "    </tr>\n",
       "    <tr>\n",
       "      <th>Vinayak SIR</th>\n",
       "      <td>1796</td>\n",
       "      <td>53</td>\n",
       "    </tr>\n",
       "  </tbody>\n",
       "</table>\n",
       "</div>"
      ],
      "text/plain": [
       "images             0.0  1.0\n",
       "name                       \n",
       "+91 96005 73784    184   19\n",
       "+91 98657 07874    256   76\n",
       "+91 99442 08636    168   13\n",
       "Madhan🤡            877   78\n",
       "Mariakka          1046  264\n",
       "Marimut Pactron    102    3\n",
       "Shuttle Aravindh  1712  634\n",
       "Thiru Shuttle      618  169\n",
       "Vinayak SIR       1796   53"
      ]
     },
     "execution_count": 308,
     "metadata": {},
     "output_type": "execute_result"
    }
   ],
   "source": [
    "crosstb = pd.crosstab(df1.name, df1.images)\n",
    "crosstb"
   ]
  },
  {
   "cell_type": "code",
   "execution_count": 316,
   "id": "09d64713",
   "metadata": {},
   "outputs": [
    {
     "data": {
      "image/png": "[encoded data removed]",
      "text/plain": [
       "<Figure size 432x288 with 1 Axes>"
      ]
     },
     "metadata": {
      "needs_background": "light"
     },
     "output_type": "display_data"
    }
   ],
   "source": [
    "crosstb.plot.bar()\n",
    "plt.show()"
   ]
  },
  {
   "cell_type": "code",
   "execution_count": 311,
   "id": "470939fa",
   "metadata": {},
   "outputs": [
    {
     "data": {
      "text/html": [
       "<div>\n",
       "<style scoped>\n",
       "    .dataframe tbody tr th:only-of-type {\n",
       "        vertical-align: middle;\n",
       "    }\n",
       "\n",
       "    .dataframe tbody tr th {\n",
       "        vertical-align: top;\n",
       "    }\n",
       "\n",
       "    .dataframe thead th {\n",
       "        text-align: right;\n",
       "    }\n",
       "</style>\n",
       "<table border=\"1\" class=\"dataframe\">\n",
       "  <thead>\n",
       "    <tr style=\"text-align: right;\">\n",
       "      <th>contact_file_attachment</th>\n",
       "      <th>0.0</th>\n",
       "      <th>1.0</th>\n",
       "    </tr>\n",
       "    <tr>\n",
       "      <th>name</th>\n",
       "      <th></th>\n",
       "      <th></th>\n",
       "    </tr>\n",
       "  </thead>\n",
       "  <tbody>\n",
       "    <tr>\n",
       "      <th>+91 96005 73784</th>\n",
       "      <td>203</td>\n",
       "      <td>0</td>\n",
       "    </tr>\n",
       "    <tr>\n",
       "      <th>+91 98657 07874</th>\n",
       "      <td>332</td>\n",
       "      <td>0</td>\n",
       "    </tr>\n",
       "    <tr>\n",
       "      <th>+91 99442 08636</th>\n",
       "      <td>181</td>\n",
       "      <td>0</td>\n",
       "    </tr>\n",
       "    <tr>\n",
       "      <th>Madhan🤡</th>\n",
       "      <td>955</td>\n",
       "      <td>0</td>\n",
       "    </tr>\n",
       "    <tr>\n",
       "      <th>Mariakka</th>\n",
       "      <td>1309</td>\n",
       "      <td>1</td>\n",
       "    </tr>\n",
       "    <tr>\n",
       "      <th>Marimut Pactron</th>\n",
       "      <td>105</td>\n",
       "      <td>0</td>\n",
       "    </tr>\n",
       "    <tr>\n",
       "      <th>Shuttle Aravindh</th>\n",
       "      <td>2346</td>\n",
       "      <td>0</td>\n",
       "    </tr>\n",
       "    <tr>\n",
       "      <th>Thiru Shuttle</th>\n",
       "      <td>786</td>\n",
       "      <td>1</td>\n",
       "    </tr>\n",
       "    <tr>\n",
       "      <th>Vinayak SIR</th>\n",
       "      <td>1845</td>\n",
       "      <td>4</td>\n",
       "    </tr>\n",
       "  </tbody>\n",
       "</table>\n",
       "</div>"
      ],
      "text/plain": [
       "contact_file_attachment   0.0  1.0\n",
       "name                              \n",
       "+91 96005 73784           203    0\n",
       "+91 98657 07874           332    0\n",
       "+91 99442 08636           181    0\n",
       "Madhan🤡                   955    0\n",
       "Mariakka                 1309    1\n",
       "Marimut Pactron           105    0\n",
       "Shuttle Aravindh         2346    0\n",
       "Thiru Shuttle             786    1\n",
       "Vinayak SIR              1845    4"
      ]
     },
     "execution_count": 311,
     "metadata": {},
     "output_type": "execute_result"
    }
   ],
   "source": [
    "pd.crosstab(df1.name, df1.contact_file_attachment)"
   ]
  },
  {
   "cell_type": "code",
   "execution_count": 318,
   "id": "89bd1cd2",
   "metadata": {},
   "outputs": [],
   "source": [
    "crosstb = pd.crosstab(df1.name, df1.contact_file_attachment)"
   ]
  },
  {
   "cell_type": "code",
   "execution_count": 319,
   "id": "94150b0f",
   "metadata": {},
   "outputs": [
    {
     "name": "stderr",
     "output_type": "stream",
     "text": [
      "C:\\Users\\Electrobot\\anaconda3\\lib\\site-packages\\IPython\\core\\pylabtools.py:151: UserWarning: Glyph 129313 (\\N{CLOWN FACE}) missing from current font.\n",
      "  fig.canvas.print_figure(bytes_io, **kw)\n"
     ]
    },
    {
     "data": {
      "image/png": "[encoded data removed]",
      "text/plain": [
       "<Figure size 432x288 with 1 Axes>"
      ]
     },
     "metadata": {
      "needs_background": "light"
     },
     "output_type": "display_data"
    }
   ],
   "source": [
    "\n",
    "crosstb.plot.bar()\n",
    "plt.show()"
   ]
  },
  {
   "cell_type": "code",
   "execution_count": 320,
   "id": "dbd09bf5",
   "metadata": {},
   "outputs": [
    {
     "name": "stderr",
     "output_type": "stream",
     "text": [
      "C:\\Users\\Electrobot\\anaconda3\\lib\\site-packages\\IPython\\core\\pylabtools.py:151: UserWarning: Glyph 129313 (\\N{CLOWN FACE}) missing from current font.\n",
      "  fig.canvas.print_figure(bytes_io, **kw)\n"
     ]
    },
    {
     "data": {
      "image/png": "[encoded data removed]",
      "text/plain": [
       "<Figure size 432x288 with 1 Axes>"
      ]
     },
     "metadata": {
      "needs_background": "light"
     },
     "output_type": "display_data"
    }
   ],
   "source": [
    "crosstb = pd.crosstab(df1.name, df1.memes)\n",
    "crosstb.plot.bar()\n",
    "plt.show()"
   ]
  },
  {
   "cell_type": "code",
   "execution_count": 321,
   "id": "c1243825",
   "metadata": {},
   "outputs": [
    {
     "name": "stderr",
     "output_type": "stream",
     "text": [
      "C:\\Users\\Electrobot\\anaconda3\\lib\\site-packages\\IPython\\core\\pylabtools.py:151: UserWarning: Glyph 129313 (\\N{CLOWN FACE}) missing from current font.\n",
      "  fig.canvas.print_figure(bytes_io, **kw)\n"
     ]
    },
    {
     "data": {
      "image/png": "[encoded data removed]",
      "text/plain": [
       "<Figure size 432x288 with 1 Axes>"
      ]
     },
     "metadata": {
      "needs_background": "light"
     },
     "output_type": "display_data"
    }
   ],
   "source": [
    "crosstb = pd.crosstab(df1.name, df1.youtube_share)\n",
    "crosstb.plot.bar()\n",
    "plt.show()"
   ]
  },
  {
   "cell_type": "code",
   "execution_count": null,
   "id": "e2fb666d",
   "metadata": {},
   "outputs": [],
   "source": [
    "\n",
    "    \n",
    "    "
   ]
  },
  {
   "cell_type": "code",
   "execution_count": null,
   "id": "2d40e11d",
   "metadata": {},
   "outputs": [],
   "source": []
  },
  {
   "cell_type": "code",
   "execution_count": null,
   "id": "329d38f1",
   "metadata": {},
   "outputs": [],
   "source": []
  },
  {
   "cell_type": "code",
   "execution_count": null,
   "id": "67d7ace3",
   "metadata": {},
   "outputs": [],
   "source": []
  }
 ],
 "metadata": {
  "kernelspec": {
   "display_name": "Python 3.8.10 ('venv')",
   "language": "python",
   "name": "python3"
  },
  "language_info": {
   "codemirror_mode": {
    "name": "ipython",
    "version": 3
   },
   "file_extension": ".py",
   "mimetype": "text/x-python",
   "name": "python",
   "nbconvert_exporter": "python",
   "pygments_lexer": "ipython3",
   "version": "3.8.10"
  },
  "vscode": {
   "interpreter": {
    "hash": "d8e0db1912bfbd3ae3b98c22f4494baa859f086703577cdd923040dbbdf0a3b1"
   }
  }
 },
 "nbformat": 4,
 "nbformat_minor": 5
}
